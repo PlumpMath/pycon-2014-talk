{
 "metadata": {
  "celltoolbar": "Slideshow",
  "name": "",
  "signature": "sha256:f4a0360d2bbdb917e2106274a3bf3453e3600fd993e31a551d9ec226a6730e71"
 },
 "nbformat": 3,
 "nbformat_minor": 0,
 "worksheets": [
  {
   "cells": [
    {
     "cell_type": "heading",
     "level": 1,
     "metadata": {
      "slideshow": {
       "slide_type": "slide"
      }
     },
     "source": [
      "Games for Science"
     ]
    },
    {
     "cell_type": "heading",
     "level": 3,
     "metadata": {},
     "source": [
      "Creating interactive psychology experiments in Python with Panda3D"
     ]
    },
    {
     "cell_type": "markdown",
     "metadata": {},
     "source": [
      "Jessica Hamrick (`jhamrick@berkeley.edu`)  \n",
      "Peter Battaglia (`pbatt@mit.edu`)"
     ]
    }
   ],
   "metadata": {}
  }
 ]
}