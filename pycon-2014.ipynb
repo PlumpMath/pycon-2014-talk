{
 "metadata": {
  "celltoolbar": "Slideshow",
  "name": "",
  "signature": "sha256:dea0472eb4473e0356401a1111978281ee2977802b1c5e6745896a80c5c81232"
 },
 "nbformat": 3,
 "nbformat_minor": 0,
 "worksheets": [
  {
   "cells": [
    {
     "cell_type": "heading",
     "level": 1,
     "metadata": {
      "slideshow": {
       "slide_type": "slide"
      }
     },
     "source": [
      "Games for Science!"
     ]
    },
    {
     "cell_type": "heading",
     "level": 3,
     "metadata": {},
     "source": [
      "Interactive psychology experiments in Python with Panda3D"
     ]
    },
    {
     "cell_type": "markdown",
     "metadata": {},
     "source": [
      "<div style=\"display: table; margin-top: 2em\">\n",
      "<div style=\"display: table-cell; padding: 0 2em 0 0; text-align: left\">\n",
      "Jessica Hamrick (@jhamrick)<br />\n",
      "jhamrick@berkeley.edu<br />\n",
      "http://www.jesshamrick.com/<br />\n",
      "<img src=\"images/berkeley-seal.png\" style=\"height: 80px; margin: 0.5em\" />\n",
      "</div>\n",
      "<div style=\"display: table-cell; padding: 0 2em; text-align-left\">\n",
      "Peter Battaglia<br />\n",
      "pbatt@mit.edu<br />\n",
      "http://web.mit.edu/~pbatt/www/<br />\n",
      "<img src=\"images/mit-logo.png\" style=\"height: 40px; margin: 1.7em 0.5em\" />\n",
      "</div>\n",
      "</div>"
     ]
    },
    {
     "cell_type": "markdown",
     "metadata": {},
     "source": [
      "## Follow along: [jhamrick.github.io/pycon-2014-talk](http://jhamrick.github.io/pycon-2014-talk)"
     ]
    },
    {
     "cell_type": "heading",
     "level": 1,
     "metadata": {
      "slideshow": {
       "slide_type": "slide"
      }
     },
     "source": [
      "The rise of games"
     ]
    },
    {
     "cell_type": "markdown",
     "metadata": {
      "slideshow": {
       "slide_type": "-"
      }
     },
     "source": [
      "> Angry Birds games had so far been played a total of 200,000 years, with **300 million minutes** of playing time **daily**.\n",
      "\n",
      "-- [TNW Blog](http://thenextweb.com/mobile/2012/05/09/rovios-angry-birds-titles-hit-1-billion-cumulative-downloads), May 2012 (emphasis added)"
     ]
    },
    {
     "cell_type": "markdown",
     "metadata": {
      "slideshow": {
       "slide_type": "fragment"
      }
     },
     "source": [
      "300 million minutes = 5 million hours = 208,000 days = 570 years"
     ]
    },
    {
     "cell_type": "markdown",
     "metadata": {
      "slideshow": {
       "slide_type": "fragment"
      }
     },
     "source": [
      "... per ***day***!"
     ]
    },
    {
     "cell_type": "markdown",
     "metadata": {
      "slideshow": {
       "slide_type": "fragment"
      }
     },
     "source": [
      "## What if we could leverage the popularity of games to do science?"
     ]
    },
    {
     "cell_type": "heading",
     "level": 1,
     "metadata": {
      "slideshow": {
       "slide_type": "slide"
      }
     },
     "source": [
      "Fun games for interesting science!"
     ]
    },
    {
     "cell_type": "markdown",
     "metadata": {},
     "source": [
      "<ol>\n",
      "<li class=\"fragment\" data-fragment-index=\"1\"><span class=\"fragment highlight-red\" data-fragment-index=\"5\">The question</span></li>\n",
      "<li class=\"fragment\" data-fragment-index=\"2\">The hypothesis</li>\n",
      "<li class=\"fragment\" data-fragment-index=\"4\">The experiments</li>\n",
      "</ol>"
     ]
    },
    {
     "cell_type": "heading",
     "level": 1,
     "metadata": {
      "slideshow": {
       "slide_type": "slide"
      }
     },
     "source": [
      "How do people reason about the world?"
     ]
    },
    {
     "cell_type": "markdown",
     "metadata": {
      "slideshow": {
       "slide_type": "fragment"
      }
     },
     "source": [
      "![](images/ry-render-1.png)"
     ]
    },
    {
     "cell_type": "markdown",
     "metadata": {
      "slideshow": {
       "slide_type": "notes"
      }
     },
     "source": [
      "People can do lots of really amazing things. From the moment you wake up to when you leave your home for the day, you've already interacted with the physical environment in dozens of sophisticated ways that no computer can rival (eg, getting dressed, making breakfast, loading your bag with stuff for the day). "
     ]
    },
    {
     "cell_type": "heading",
     "level": 1,
     "metadata": {
      "slideshow": {
       "slide_type": "slide"
      }
     },
     "source": [
      "How do people reason about the world?"
     ]
    },
    {
     "cell_type": "markdown",
     "metadata": {
      "slideshow": {
       "slide_type": "-"
      }
     },
     "source": [
      "![](images/ry-render-2.png)"
     ]
    },
    {
     "cell_type": "heading",
     "level": 1,
     "metadata": {
      "slideshow": {
       "slide_type": "slide"
      }
     },
     "source": [
      "How do people reason about the world?"
     ]
    },
    {
     "cell_type": "markdown",
     "metadata": {
      "slideshow": {
       "slide_type": "-"
      }
     },
     "source": [
      "![](images/ry-render-3.png)"
     ]
    },
    {
     "cell_type": "heading",
     "level": 1,
     "metadata": {
      "slideshow": {
       "slide_type": "slide"
      }
     },
     "source": [
      "How do people reason about the world?"
     ]
    },
    {
     "cell_type": "markdown",
     "metadata": {
      "slideshow": {
       "slide_type": "-"
      }
     },
     "source": [
      "![](images/ry-render-4.png)"
     ]
    },
    {
     "cell_type": "heading",
     "level": 1,
     "metadata": {
      "slideshow": {
       "slide_type": "slide"
      }
     },
     "source": [
      "How do people reason about the world?"
     ]
    },
    {
     "cell_type": "markdown",
     "metadata": {
      "slideshow": {
       "slide_type": "-"
      }
     },
     "source": [
      "![](images/ry-render-5.png)"
     ]
    },
    {
     "cell_type": "heading",
     "level": 1,
     "metadata": {
      "slideshow": {
       "slide_type": "slide"
      }
     },
     "source": [
      "How do people reason about the world?"
     ]
    },
    {
     "cell_type": "markdown",
     "metadata": {
      "slideshow": {
       "slide_type": "-"
      }
     },
     "source": [
      "![](images/ry-render-7.png)"
     ]
    },
    {
     "cell_type": "heading",
     "level": 1,
     "metadata": {
      "slideshow": {
       "slide_type": "slide"
      }
     },
     "source": [
      "Outline"
     ]
    },
    {
     "cell_type": "markdown",
     "metadata": {},
     "source": [
      "<ol>\n",
      "<li>The question: How do people reason about the physical world?</li>\n",
      "<li class=\"fragment highlight-red\">The hypothesis</li>\n",
      "<li>The experiments</li>\n",
      "</ol>"
     ]
    },
    {
     "cell_type": "heading",
     "level": 1,
     "metadata": {
      "slideshow": {
       "slide_type": "slide"
      }
     },
     "source": [
      "Brain as a computer"
     ]
    },
    {
     "cell_type": "markdown",
     "metadata": {},
     "source": [
      "<div style=\"display: table;\">\n",
      "<div style=\"display: table-cell; width: 50%\"><img src=\"images/brain-as-computer.png\" /></div>\n",
      "<div style=\"display: table-cell; vertical-align: middle; width: 50%\">\n",
      "<p class=\"fragment\" style=\"text-align: center;\"><strong><em>Computational cognitive science</em></strong><br />software (i.e., mind)</p>\n",
      "<p class=\"fragment\" style=\"text-align: center;\"><strong><em>Computational neuroscience</em></strong><br />hardware (i.e., brain)</p>\n",
      "</div>\n",
      "</div>"
     ]
    },
    {
     "cell_type": "markdown",
     "metadata": {
      "slideshow": {
       "slide_type": "notes"
      }
     },
     "source": [
      "Cognitive psychologists study how the brain generates thought and behavior. We're \"computational cognitive scientists\": we view the brain as a computer, and we study its software -- our friends in computational neuroscience are more concerned with its hardware. Our scientific strategy is to create theories of how the brain's software produces behavior, express them in computer models that also generate behavior (like in AI), and evaluate whether our theories are good by measuring whether people's behaviors match our models' using experiments that mimic real-world activities."
     ]
    },
    {
     "cell_type": "heading",
     "level": 1,
     "metadata": {
      "slideshow": {
       "slide_type": "slide"
      }
     },
     "source": [
      "Computer models of behavior"
     ]
    },
    {
     "cell_type": "markdown",
     "metadata": {},
     "source": [
      "![](images/wall-e-blocks.jpg)"
     ]
    },
    {
     "cell_type": "heading",
     "level": 1,
     "metadata": {
      "slideshow": {
       "slide_type": "slide"
      }
     },
     "source": [
      "Physics games"
     ]
    },
    {
     "cell_type": "markdown",
     "metadata": {
      "slideshow": {
       "slide_type": "-"
      }
     },
     "source": [
      "![](images/angry-birds.png)"
     ]
    },
    {
     "cell_type": "markdown",
     "metadata": {
      "slideshow": {
       "slide_type": "notes"
      }
     },
     "source": [
      "Many of our video games also require us to use these sophisticated abilities -- for example, Angry Birds! These games are a great domain in which to study these abilities because they are designed to exercise your most powerful and amazing reasoning faculties, and they are rich and often realistic, but can also allow rigorous experimental control. \n",
      "\n",
      "An important step is to build computational models for playing these games, which is a very challenging and important task itself: one of the most successful efforts toward making AI systems beat video games has been by Deepmind, a startup in London which has recently created systems that can beat many Atari games, and which was just bought by Google for a half a billion dollars two months ago."
     ]
    },
    {
     "cell_type": "markdown",
     "metadata": {
      "slideshow": {
       "slide_type": "slide"
      }
     },
     "source": [
      "# \u201cThe physics engine in your head\u201d"
     ]
    },
    {
     "cell_type": "markdown",
     "metadata": {
      "slideshow": {
       "slide_type": "-"
      }
     },
     "source": [
      "<div style=\"display: table;\">\n",
      "<div style=\"display: table-cell; width: 60%\"><img src=\"images/ipe.png\" /></div>\n",
      "<div style=\"display: table-cell; vertical-align: middle; width: 40%\">\n",
      "<p class=\"fragment\" style=\"text-align: center;\"><strong><em>Approximate</em></strong><br />simulations are not exact</p>\n",
      "<p class=\"fragment\" style=\"text-align: center;\"><strong><em>Probabilistic</em></strong><br />simulations have some randomness</p>\n",
      "</div>\n",
      "</div>"
     ]
    },
    {
     "cell_type": "markdown",
     "metadata": {
      "slideshow": {
       "slide_type": "notes"
      }
     },
     "source": [
      "Here's what we think is going on when you reason about this situation: in your head, you have a physics engine, similar to those in video games and computer graphics, but that runs approximate probabilistic simulations that can drive various predictions, inferences, and plans. "
     ]
    },
    {
     "cell_type": "heading",
     "level": 1,
     "metadata": {
      "slideshow": {
       "slide_type": "slide"
      }
     },
     "source": [
      "Why approximate and probabilistic?"
     ]
    },
    {
     "cell_type": "markdown",
     "metadata": {},
     "source": [
      "<div style=\"display: table\">\n",
      "<div class=\"fragment\" style=\"display: table-cell\">\n",
      "<img src=\"images/rockbalancing.jpg\" />\n",
      "</div>\n",
      "<div class=\"fragment\" style=\"display: table-cell\">\n",
      "<img src=\"images/jenga.jpg\" />\n",
      "</div>\n",
      "<div class=\"fragment\" style=\"display: table-cell\">\n",
      "<img src=\"images/unstable.png\" />\n",
      "</div>\n",
      "</div>"
     ]
    },
    {
     "cell_type": "heading",
     "level": 1,
     "metadata": {
      "slideshow": {
       "slide_type": "slide"
      }
     },
     "source": [
      "Why a physics engine?"
     ]
    },
    {
     "cell_type": "markdown",
     "metadata": {},
     "source": [
      "<div style=\"display: table;\">\n",
      "<div style=\"display: table-cell; vertical-align: middle; width: 55%\">\n",
      "<p class=\"fragment\"><strong><em>Effective</em></strong><br />Simulations are sufficiently realistic</p>\n",
      "<p class=\"fragment\"><strong><em>Efficient</em></strong><br />Created to run in realtime</p>\n",
      "<p class=\"fragment\"><strong><em>General-purpose</em></strong><br />Applies to many situations</p>\n",
      "</div>\n",
      "<div style=\"display: table-cell; width: 45%\">\n",
      "    <p class=\"fragment\"><img src=\"images/warning-falling-cows.jpg\" style=\"float: right;\"/></p>\n",
      "</div>\n",
      "</div>"
     ]
    },
    {
     "cell_type": "markdown",
     "metadata": {
      "slideshow": {
       "slide_type": "notes"
      }
     },
     "source": [
      "The reason this might be a good idea for a brain is the same reason why physics engines are so dominant in games and graphics: they are effective, efficient, and general-purpose. The brain loves solutions that have these characteristics. \n",
      "\n",
      "The last thing you'd want is a brain that can only make good decisions in situations that it has had significant exposure to: [show them an example of something dangerous that they've never seen] would you want to have to experience this first before being able to reason about it?"
     ]
    },
    {
     "cell_type": "heading",
     "level": 1,
     "metadata": {
      "slideshow": {
       "slide_type": "slide"
      }
     },
     "source": [
      "Outline"
     ]
    },
    {
     "cell_type": "markdown",
     "metadata": {},
     "source": [
      "<ol>\n",
      "<li>The question: How do people reason about the physical world?</li>\n",
      "<li>The hypothesis: \"The physics engine in your head\"</li>\n",
      "<li class=\"fragment highlight-red\">The experiments</li>\n",
      "</ol>"
     ]
    },
    {
     "cell_type": "heading",
     "level": 1,
     "metadata": {
      "slideshow": {
       "slide_type": "slide"
      }
     },
     "source": [
      "Ok, so how do we test this?"
     ]
    },
    {
     "cell_type": "markdown",
     "metadata": {},
     "source": [
      "We use video game tools as our theories, and in our experiments."
     ]
    },
    {
     "cell_type": "markdown",
     "metadata": {},
     "source": [
      "<ul>\n",
      "<li class=\"fragment\">Create a **computational model** using video game physics (e.g., [Bullet](http://www.bulletphysics.com/))</li>\n",
      "<li class=\"fragment\">Generate **stimuli** using a 3D modeling program (e.g., [Blender](http://www.blender.org/))</li>\n",
      "<li class=\"fragment\">Run **experiments** using a video game framework (e.g., [Panda3D](http://www.panda3d.org/))</li>\n",
      "<li class=\"fragment\">(All open source, and all with Python bindings!)</li>\n",
      "<li class=\"fragment\">Perform data **analysis** using other Python tools: NumPy, SciPy, pandas, IPython, matplotlib, etc.</li>\n",
      "</ul>"
     ]
    },
    {
     "cell_type": "markdown",
     "metadata": {
      "slideshow": {
       "slide_type": "notes"
      }
     },
     "source": [
      "So in our research we use computers, programming, simulation engines, and video games as much more than just metaphors: we use these tools AS our theories themselves and they are essential to our experiments. The two that we really like are Blender and Panda3D."
     ]
    },
    {
     "cell_type": "heading",
     "level": 1,
     "metadata": {
      "slideshow": {
       "slide_type": "slide"
      }
     },
     "source": [
      "More information about the research"
     ]
    },
    {
     "cell_type": "markdown",
     "metadata": {
      "slideshow": {
       "slide_type": "-"
      }
     },
     "source": [
      "I am just going to focus on the experiments, but if you're interested in the research, check out these links:\n",
      "* Project page:  \n",
      "    http://web.mit.edu/~pbatt/www/PNAS2013/user.html\n",
      "* PNAS journal article:  \n",
      "    http://www.pnas.org/content/110/45/18327.abstract\n",
      "* Scientific American article:  \n",
      "    http://www.scientificamerican.com/article/the-video-game-engine-in-your-head\n",
      "* Fast Company article:  \n",
      "    http://www.fastcodesign.com/3022236/evidence/how-our-brains-play-angry-birds-with-the-world"
     ]
    },
    {
     "cell_type": "heading",
     "level": 1,
     "metadata": {
      "slideshow": {
       "slide_type": "slide"
      }
     },
     "source": [
      "Demo: \u201cWhich direction?\u201d"
     ]
    },
    {
     "cell_type": "markdown",
     "metadata": {},
     "source": [
      "![](images/screenshot-which-direction.jpg)"
     ]
    },
    {
     "cell_type": "heading",
     "level": 1,
     "metadata": {
      "slideshow": {
       "slide_type": "slide"
      }
     },
     "source": [
      "Demo: \u201cWhich direction?\u201d"
     ]
    },
    {
     "cell_type": "markdown",
     "metadata": {
      "slideshow": {
       "slide_type": "-"
      }
     },
     "source": [
      "<iframe width=\"480\" height=\"360\" src=\"//www.youtube.com/embed/2FqFDTIpLpI?rel=0\" frameborder=\"0\" allowfullscreen></iframe>\n",
      "\n",
      "<p class=\"footnote\">https://github.com/jhamrick/pycon-2014-talk/blob/master/demos/which_direction.py</p>"
     ]
    },
    {
     "cell_type": "heading",
     "level": 1,
     "metadata": {
      "slideshow": {
       "slide_type": "slide"
      }
     },
     "source": [
      "How does it work?"
     ]
    },
    {
     "cell_type": "markdown",
     "metadata": {},
     "source": [
      "<ol>\n",
      "<li class=\"fragment\">Create *graphics models* to depict the objects</li>\n",
      "<li class=\"fragment\">Display the models with a *rendering engine*</li>\n",
      "<li class=\"fragment\">Add physical dynamics with a *physics engine*</li>\n",
      "<li class=\"fragment\">Link graphics and physics together</li>\n",
      "</ol>"
     ]
    },
    {
     "cell_type": "markdown",
     "metadata": {
      "slideshow": {
       "slide_type": "fragment"
      }
     },
     "source": [
      "We'll go through a conceptual overview of these steps. If you want to learn how to actually code it, you can find the code here:  \n",
      "https://github.com/jhamrick/pycon-2014-talk/blob/master/demos/tutorial.py\n",
      "\n",
      "Panda3D also has a great \"Hello, world!\" tutorial here:  \n",
      "https://www.panda3d.org/manual/index.php/A_Panda3D_Hello_World_Tutorial"
     ]
    },
    {
     "cell_type": "heading",
     "level": 1,
     "metadata": {
      "slideshow": {
       "slide_type": "slide"
      }
     },
     "source": [
      "Step 1: Create a graphics model"
     ]
    },
    {
     "cell_type": "markdown",
     "metadata": {},
     "source": [
      "3D objects are typically created in a *modeling* program like [Blender](http://www.blender.org/) (which is Python scriptable!)\n",
      "\n",
      "![](images/blender.png)"
     ]
    },
    {
     "cell_type": "heading",
     "level": 1,
     "metadata": {
      "slideshow": {
       "slide_type": "slide"
      }
     },
     "source": [
      "Step 2: Set up graphics"
     ]
    },
    {
     "cell_type": "markdown",
     "metadata": {},
     "source": [
      "Panda3D is a C++ game library with Python bindings\n",
      "\n",
      "![](images/panda3d.png)"
     ]
    },
    {
     "cell_type": "markdown",
     "metadata": {
      "slideshow": {
       "slide_type": "slide"
      }
     },
     "source": [
      "# Step 2a: Set up the scene graph\n",
      "\n",
      "![](images/scenegraph1.png)"
     ]
    },
    {
     "cell_type": "markdown",
     "metadata": {
      "slideshow": {
       "slide_type": "slide"
      }
     },
     "source": [
      "# Step 2b: Load the model\n",
      "\n",
      "![](images/scenegraph2.png)"
     ]
    },
    {
     "cell_type": "markdown",
     "metadata": {
      "slideshow": {
       "slide_type": "slide"
      }
     },
     "source": [
      "# Step 2c: Add it to the scene graph\n",
      "\n",
      "![](images/scenegraph3.png)"
     ]
    },
    {
     "cell_type": "heading",
     "level": 1,
     "metadata": {
      "slideshow": {
       "slide_type": "slide"
      }
     },
     "source": [
      "Step 2: The result"
     ]
    },
    {
     "cell_type": "markdown",
     "metadata": {
      "slideshow": {
       "slide_type": "-"
      }
     },
     "source": [
      "![](images/block.png)"
     ]
    },
    {
     "cell_type": "heading",
     "level": 1,
     "metadata": {
      "slideshow": {
       "slide_type": "slide"
      }
     },
     "source": [
      "Step 3: Set up physics"
     ]
    },
    {
     "cell_type": "markdown",
     "metadata": {
      "slideshow": {
       "slide_type": "-"
      }
     },
     "source": [
      "<ul>\n",
      "<li class=\"fragment\">[Bullet](http://bulletphysics.org) is a mature C++ physics engine. Panda3d includes bindings to it, and it can be controlled through Python.\n",
      "![](images/bullet_logo.png)\n",
      "</li>\n",
      "<li class=\"fragment\">To simulate physics, you need a `BulletWorld`\n",
      "<ul>\n",
      "<li>Keeps track of all the physics objects</li>\n",
      "<li>Computes new positions</li>\n",
      "<li>Handles collisions</li>\n",
      "</ul></li>\n",
      "<li class=\"fragment\">Physics objects consist of a *shape* (collisions) and a *body* (dynamics)</li>\n",
      "</ul>"
     ]
    },
    {
     "cell_type": "markdown",
     "metadata": {
      "slideshow": {
       "slide_type": "slide"
      }
     },
     "source": [
      "# Step 3a: Create the physics world\n",
      "\n",
      "![](images/scenegraph4.png)"
     ]
    },
    {
     "cell_type": "markdown",
     "metadata": {
      "slideshow": {
       "slide_type": "slide"
      }
     },
     "source": [
      "# Step 3b: Create collision geometry\n",
      "\n",
      "![](images/scenegraph5.png)"
     ]
    },
    {
     "cell_type": "markdown",
     "metadata": {
      "slideshow": {
       "slide_type": "slide"
      }
     },
     "source": [
      "# Step 3c: Create a physical body\n",
      "\n",
      "![](images/scenegraph6.png)"
     ]
    },
    {
     "cell_type": "markdown",
     "metadata": {
      "slideshow": {
       "slide_type": "slide"
      }
     },
     "source": [
      "# Step 3d: Add it to the physical world\n",
      "\n",
      "![](images/scenegraph7.png)"
     ]
    },
    {
     "cell_type": "heading",
     "level": 1,
     "metadata": {
      "slideshow": {
       "slide_type": "slide"
      }
     },
     "source": [
      "Step 3: The result"
     ]
    },
    {
     "cell_type": "markdown",
     "metadata": {
      "slideshow": {
       "slide_type": "-"
      }
     },
     "source": [
      "<iframe width=\"480\" height=\"360\" src=\"//www.youtube.com/embed/Yt5ywguOq50?rel=0\" frameborder=\"0\" allowfullscreen></iframe>"
     ]
    },
    {
     "cell_type": "markdown",
     "metadata": {
      "slideshow": {
       "slide_type": "slide"
      }
     },
     "source": [
      "# Step 4: Link graphics and physics\n",
      "\n",
      "![](images/scenegraph7.png)"
     ]
    },
    {
     "cell_type": "markdown",
     "metadata": {
      "slideshow": {
       "slide_type": "slide"
      }
     },
     "source": [
      "# Step 4a: Add the body to the scene graph\n",
      "\n",
      "![](images/scenegraph8.png)"
     ]
    },
    {
     "cell_type": "markdown",
     "metadata": {
      "slideshow": {
       "slide_type": "slide"
      }
     },
     "source": [
      "# Step 4b: Link physics and graphics\n",
      "\n",
      "![](images/scenegraph9.png)"
     ]
    },
    {
     "cell_type": "heading",
     "level": 1,
     "metadata": {
      "slideshow": {
       "slide_type": "slide"
      }
     },
     "source": [
      "Step 4: The result"
     ]
    },
    {
     "cell_type": "markdown",
     "metadata": {
      "slideshow": {
       "slide_type": "-"
      }
     },
     "source": [
      "<iframe width=\"480\" height=\"360\" src=\"//www.youtube.com/embed/qLKxykG3elc?rel=0\" frameborder=\"0\" allowfullscreen></iframe>"
     ]
    },
    {
     "cell_type": "heading",
     "level": 1,
     "metadata": {
      "slideshow": {
       "slide_type": "slide"
      }
     },
     "source": [
      "Demo: \u201cGlue blocks together to make the tower stable\u201d"
     ]
    },
    {
     "cell_type": "markdown",
     "metadata": {},
     "source": [
      "![](images/screenshot-attachment.jpg)"
     ]
    },
    {
     "cell_type": "heading",
     "level": 1,
     "metadata": {
      "slideshow": {
       "slide_type": "slide"
      }
     },
     "source": [
      "Demo: \u201cGlue blocks together to make the tower stable\u201d"
     ]
    },
    {
     "cell_type": "markdown",
     "metadata": {
      "slideshow": {
       "slide_type": "-"
      }
     },
     "source": [
      "<iframe width=\"480\" height=\"360\" src=\"//www.youtube.com/embed/hBffqOREWJA?rel=0\" frameborder=\"0\" allowfullscreen></iframe>"
     ]
    },
    {
     "cell_type": "markdown",
     "metadata": {
      "slideshow": {
       "slide_type": "notes"
      }
     },
     "source": [
      "In this experiment, the tower is always unstable, but can be made stable by \"gluing\" blocks together. People doing this experiment have to figure out which blocks to glue together, and get more points for gluing fewer blocks."
     ]
    },
    {
     "cell_type": "heading",
     "level": 1,
     "metadata": {
      "slideshow": {
       "slide_type": "slide"
      }
     },
     "source": [
      "Demo: \u201cBump the table\u201d"
     ]
    },
    {
     "cell_type": "markdown",
     "metadata": {},
     "source": [
      "![](images/screenshot-bump.jpg)"
     ]
    },
    {
     "cell_type": "heading",
     "level": 1,
     "metadata": {
      "slideshow": {
       "slide_type": "slide"
      }
     },
     "source": [
      "Demo: \u201cAngry blocks 3D\u201d"
     ]
    },
    {
     "cell_type": "markdown",
     "metadata": {},
     "source": [
      "![](images/screenshot-bump.jpg)"
     ]
    },
    {
     "cell_type": "markdown",
     "metadata": {
      "slideshow": {
       "slide_type": "notes"
      }
     },
     "source": [
      "Subjects have told Peter that they would pay to play this."
     ]
    },
    {
     "cell_type": "heading",
     "level": 1,
     "metadata": {
      "slideshow": {
       "slide_type": "slide"
      }
     },
     "source": [
      "Demo: \u201cAngry blocks 3D\u201d"
     ]
    },
    {
     "cell_type": "markdown",
     "metadata": {
      "slideshow": {
       "slide_type": "-"
      }
     },
     "source": [
      "<iframe width=\"480\" height=\"360\" src=\"//www.youtube.com/embed/BmCzqW3ibFI?rel=0\" frameborder=\"0\" allowfullscreen></iframe>"
     ]
    },
    {
     "cell_type": "markdown",
     "metadata": {
      "slideshow": {
       "slide_type": "notes"
      }
     },
     "source": [
      "This is the last demo I'll be showing, and (in my opinion), the most fun. This experiment is very similar to the tables with the red and yellow blocks that I showed earlier. In fact, we actually ran that as an experiment. This is the next version of that, where people have to choose the direction and magnitude of the force in order to knock off yellow (but not red) blocks."
     ]
    },
    {
     "cell_type": "heading",
     "level": 1,
     "metadata": {
      "slideshow": {
       "slide_type": "slide"
      }
     },
     "source": [
      "Conclusion"
     ]
    },
    {
     "cell_type": "markdown",
     "metadata": {},
     "source": [
      "<ul>\n",
      "<li class=\"fragment\">Question: How do people reason about the physical world?</li>\n",
      "<li class=\"fragment\">Hypothesis: \"The physics engine in your head\"</li>\n",
      "<li class=\"fragment\">Tools: Blender, Panda3D, and Bullet<br />\n",
      "<img src=\"images/Blender-Logo.jpg\" style=\"height: 150px; display: inline\" /><img src=\"images/panda3d-logo.png\" style=\"height: 150px; display: inline\" />\n",
      "<img src=\"images/bullet_logo.png\" style=\"height: 100px; margin-left: 15px\" />\n",
      "</ul>"
     ]
    },
    {
     "cell_type": "heading",
     "level": 1,
     "metadata": {
      "slideshow": {
       "slide_type": "slide"
      }
     },
     "source": [
      "Looking forward..."
     ]
    },
    {
     "cell_type": "markdown",
     "metadata": {
      "slideshow": {
       "slide_type": "-"
      }
     },
     "source": [
      "> Angry Birds games had so far been played a total of 200,000 years, with **300 million minutes** of playing time **daily**.\n",
      "\n",
      "-- [TNW Blog](http://thenextweb.com/mobile/2012/05/09/rovios-angry-birds-titles-hit-1-billion-cumulative-downloads), May 2012 (emphasis added)"
     ]
    },
    {
     "cell_type": "markdown",
     "metadata": {
      "slideshow": {
       "slide_type": "fragment"
      }
     },
     "source": [
      "Think how much we could learn if people participated in psychology experiments at that scale!"
     ]
    },
    {
     "cell_type": "markdown",
     "metadata": {
      "slideshow": {
       "slide_type": "fragment"
      }
     },
     "source": [
      "With engaging and interactive physics experiments, it doesn't seem impossible."
     ]
    },
    {
     "cell_type": "heading",
     "level": 1,
     "metadata": {
      "slideshow": {
       "slide_type": "slide"
      }
     },
     "source": [
      "Thanks!"
     ]
    },
    {
     "cell_type": "markdown",
     "metadata": {
      "slideshow": {
       "slide_type": "-"
      }
     },
     "source": [
      "<ul>\n",
      "<li class=\"fragment\">People\n",
      "<ul>\n",
      "<li>Josh Tenenbaum</li>\n",
      "<li>Tom Griffiths</li>\n",
      "<li>Computational Cognitive Science Lab @ MIT</li>\n",
      "<li>Computational Cognitive Science Lab @ Berkeley</li>\n",
      "</ul></li>\n",
      "<li class=\"fragment\">Tools\n",
      "<ul>\n",
      "<li>Python</li>\n",
      "<li>Panda3D, Blender, and Bullet</li>\n",
      "<li>IPython, NumPy, and the rest of the SciPy stack</li>\n",
      "<li>Slides created with IPython notebook and reveal.js</li>\n",
      "</ul></li>\n",
      "</ul>"
     ]
    },
    {
     "cell_type": "heading",
     "level": 1,
     "metadata": {
      "slideshow": {
       "slide_type": "slide"
      }
     },
     "source": [
      "Links"
     ]
    },
    {
     "cell_type": "markdown",
     "metadata": {},
     "source": [
      "* Slides and demo code:  \n",
      "    https://github.com/jhamrick/pycon-2014-talk\n",
      "* Project page:  \n",
      "    http://web.mit.edu/~pbatt/www/PNAS2013/user.html\n",
      "* SceneSim library:  \n",
      "    http://scenesim.org/\n",
      "\n",
      "\n",
      "* PNAS:  \n",
      "    http://www.pnas.org/content/110/45/18327.abstract\n",
      "* Scientific American:  \n",
      "    http://www.scientificamerican.com/article/the-video-game-engine-in-your-head\n",
      "* Fast Company:  \n",
      "    http://www.fastcodesign.com/3022236/evidence/how-our-brains-play-angry-birds-with-the-world"
     ]
    },
    {
     "cell_type": "heading",
     "level": 1,
     "metadata": {
      "slideshow": {
       "slide_type": "slide"
      }
     },
     "source": [
      "IPython Notebook"
     ]
    },
    {
     "cell_type": "markdown",
     "metadata": {
      "slideshow": {
       "slide_type": "-"
      }
     },
     "source": [
      "![](images/ipython-notebook.png)"
     ]
    }
   ],
   "metadata": {}
  }
 ]
}